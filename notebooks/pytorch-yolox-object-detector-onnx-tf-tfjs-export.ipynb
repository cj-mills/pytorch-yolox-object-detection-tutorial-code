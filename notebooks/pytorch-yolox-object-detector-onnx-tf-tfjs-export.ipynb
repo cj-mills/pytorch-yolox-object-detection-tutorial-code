{
 "cells": [
  {
   "cell_type": "markdown",
   "id": "d2092ae9-edd4-488e-85fa-531b677ad9d6",
   "metadata": {},
   "source": [
    "## Setting Up Your Python Environment"
   ]
  },
  {
   "cell_type": "code",
   "execution_count": 1,
   "id": "763e531e-5244-485f-8589-8a829791ab9e",
   "metadata": {},
   "outputs": [],
   "source": [
    "# %%capture\n",
    "# !pip install pandas tensorflow_probability onnx-tf tensorflowjs"
   ]
  },
  {
   "cell_type": "markdown",
   "id": "c0ae5112-f98c-4017-98d3-48750aa5dc42",
   "metadata": {},
   "source": [
    "## Importing the Required Dependencies"
   ]
  },
  {
   "cell_type": "code",
   "execution_count": 2,
   "id": "3d9b627e-a1c1-4a43-9583-ccdedaa63d08",
   "metadata": {},
   "outputs": [
    {
     "name": "stderr",
     "output_type": "stream",
     "text": [
      "2023-09-27 14:34:51.590062: I tensorflow/core/util/port.cc:110] oneDNN custom operations are on. You may see slightly different numerical results due to floating-point round-off errors from different computation orders. To turn them off, set the environment variable `TF_ENABLE_ONEDNN_OPTS=0`.\n",
      "2023-09-27 14:34:51.626171: I tensorflow/tsl/cuda/cudart_stub.cc:28] Could not find cuda drivers on your machine, GPU will not be used.\n",
      "2023-09-27 14:34:51.908835: I tensorflow/tsl/cuda/cudart_stub.cc:28] Could not find cuda drivers on your machine, GPU will not be used.\n",
      "2023-09-27 14:34:51.909998: I tensorflow/core/platform/cpu_feature_guard.cc:182] This TensorFlow binary is optimized to use available CPU instructions in performance-critical operations.\n",
      "To enable the following instructions: AVX2 AVX512F AVX512_VNNI FMA, in other operations, rebuild TensorFlow with the appropriate compiler flags.\n",
      "2023-09-27 14:34:52.799937: W tensorflow/compiler/tf2tensorrt/utils/py_utils.cc:38] TF-TRT Warning: Could not find TensorRT\n",
      "/home/innom-dt/mambaforge/envs/pytorch-env/lib/python3.11/site-packages/tensorflow_addons/utils/tfa_eol_msg.py:23: UserWarning: \n",
      "\n",
      "TensorFlow Addons (TFA) has ended development and introduction of new features.\n",
      "TFA has entered a minimal maintenance and release mode until a planned end of life in May 2024.\n",
      "Please modify downstream libraries to take dependencies from other repositories in our TensorFlow community (e.g. Keras, Keras-CV, and Keras-NLP). \n",
      "\n",
      "For more information see: https://github.com/tensorflow/addons/issues/2807 \n",
      "\n",
      "  warnings.warn(\n"
     ]
    }
   ],
   "source": [
    "# Import Python Standard Library dependencies\n",
    "from pathlib import Path\n",
    "\n",
    "# Import the pandas package\n",
    "import pandas as pd\n",
    "\n",
    "# Import ONNX dependencies\n",
    "import onnx # Import the onnx module\n",
    "\n",
    "# Import Tensorflow backend for ONNX\n",
    "from onnx_tf.backend import prepare\n",
    "\n",
    "from tensorflowjs import converters, quantization"
   ]
  },
  {
   "cell_type": "markdown",
   "id": "ffffa948-cd9b-4e33-81d4-d3f708ad0cc0",
   "metadata": {},
   "source": [
    "## Setting Up the Project"
   ]
  },
  {
   "cell_type": "markdown",
   "id": "90dd61fa-0545-4e16-b32c-5aa35c3dff8e",
   "metadata": {},
   "source": [
    "### Set the Directory Paths"
   ]
  },
  {
   "cell_type": "code",
   "execution_count": 3,
   "id": "5939249c-d288-4473-b429-813baa1c7332",
   "metadata": {},
   "outputs": [
    {
     "data": {
      "text/html": [
       "<style type=\"text/css\">\n",
       "</style>\n",
       "<table id=\"T_7f1bb\">\n",
       "  <thead>\n",
       "  </thead>\n",
       "  <tbody>\n",
       "    <tr>\n",
       "      <th id=\"T_7f1bb_level0_row0\" class=\"row_heading level0 row0\" >Project Directory:</th>\n",
       "      <td id=\"T_7f1bb_row0_col0\" class=\"data row0 col0\" >pytorch-yolox-object-detector</td>\n",
       "    </tr>\n",
       "    <tr>\n",
       "      <th id=\"T_7f1bb_level0_row1\" class=\"row_heading level0 row1\" >Checkpoint Directory:</th>\n",
       "      <td id=\"T_7f1bb_row1_col0\" class=\"data row1 col0\" >pytorch-yolox-object-detector/2023-08-17_16-14-43</td>\n",
       "    </tr>\n",
       "  </tbody>\n",
       "</table>\n"
      ],
      "text/plain": [
       "<pandas.io.formats.style.Styler at 0x7f8e3ed279d0>"
      ]
     },
     "execution_count": 3,
     "metadata": {},
     "output_type": "execute_result"
    }
   ],
   "source": [
    "# The name for the project\n",
    "project_name = f\"pytorch-yolox-object-detector\"\n",
    "\n",
    "# The path for the project folder\n",
    "project_dir = Path(f\"./{project_name}/\")\n",
    "\n",
    "# Create the project directory if it does not already exist\n",
    "project_dir.mkdir(parents=True, exist_ok=True)\n",
    "\n",
    "# The path to the checkpoint folder\n",
    "checkpoint_dir = Path(project_dir/f\"2023-08-17_16-14-43\")\n",
    "\n",
    "pd.Series({\n",
    "    \"Project Directory:\": project_dir,\n",
    "    \"Checkpoint Directory:\": checkpoint_dir,\n",
    "}).to_frame().style.hide(axis='columns')"
   ]
  },
  {
   "cell_type": "markdown",
   "id": "59deff88-a7dc-4fed-9180-b65c81885cc1",
   "metadata": {},
   "source": [
    "## Loading the Checkpoint Data"
   ]
  },
  {
   "cell_type": "markdown",
   "id": "6b2e5f56-3373-4ccc-9b96-85f43b5db909",
   "metadata": {},
   "source": [
    "### Load the ONNX Model"
   ]
  },
  {
   "cell_type": "code",
   "execution_count": 4,
   "id": "d37bb01b-cc12-4285-b8b5-f52e9a473fe5",
   "metadata": {},
   "outputs": [],
   "source": [
    "# The model checkpoint path\n",
    "checkpoint_path = list(checkpoint_dir.glob('*.onnx'))[0]\n",
    "\n",
    "# Load the ONNX model\n",
    "onnx_model = onnx.load(checkpoint_path)"
   ]
  },
  {
   "cell_type": "markdown",
   "id": "f05d4caf-94e5-493a-9582-356c87c17ccb",
   "metadata": {},
   "source": [
    "## Exporting the Model to TensorFlow"
   ]
  },
  {
   "cell_type": "markdown",
   "id": "c4a64ea5-ba4f-4aa2-b29b-8d16ed0ce406",
   "metadata": {},
   "source": [
    "### Prepare ONNX model for Tensorflow Backend"
   ]
  },
  {
   "cell_type": "code",
   "execution_count": 5,
   "id": "053e12d8-a62e-4620-bc30-a9cbc032946e",
   "metadata": {},
   "outputs": [
    {
     "name": "stderr",
     "output_type": "stream",
     "text": [
      "2023-09-27 14:34:55.221957: I tensorflow/compiler/xla/stream_executor/cuda/cuda_gpu_executor.cc:995] successful NUMA node read from SysFS had negative value (-1), but there must be at least one NUMA node, so returning NUMA node zero. See more at https://github.com/torvalds/linux/blob/v6.0/Documentation/ABI/testing/sysfs-bus-pci#L344-L355\n",
      "2023-09-27 14:34:55.223592: W tensorflow/core/common_runtime/gpu/gpu_device.cc:1960] Cannot dlopen some GPU libraries. Please make sure the missing libraries mentioned above are installed properly if you would like to use GPU. Follow the guide at https://www.tensorflow.org/install/gpu for how to download and setup the required libraries for your platform.\n",
      "Skipping registering GPU devices...\n"
     ]
    }
   ],
   "source": [
    "tf_rep = prepare(onnx_model)"
   ]
  },
  {
   "cell_type": "markdown",
   "id": "dd0a68aa-ecfd-4160-975f-2801403a0c56",
   "metadata": {},
   "source": [
    "### Export the Model to TensorFlow"
   ]
  },
  {
   "cell_type": "code",
   "execution_count": 6,
   "id": "2dbcd6d8-8827-440d-b30d-acc9134104e7",
   "metadata": {},
   "outputs": [
    {
     "name": "stderr",
     "output_type": "stream",
     "text": [
      "INFO:absl:Function `__call__` contains input name(s) x, y with unsupported characters which will be renamed to transpose_253_x, add_73_y in the SavedModel.\n",
      "INFO:absl:Found untraced functions such as gen_tensor_dict while saving (showing 1 of 1). These functions will not be directly callable after loading.\n"
     ]
    },
    {
     "name": "stdout",
     "output_type": "stream",
     "text": [
      "INFO:tensorflow:Assets written to: pytorch-yolox-object-detector/2023-08-17_16-14-43/hagrid-sample-30k-384p-yolox_tiny-onnx-tf/assets\n"
     ]
    },
    {
     "name": "stderr",
     "output_type": "stream",
     "text": [
      "INFO:tensorflow:Assets written to: pytorch-yolox-object-detector/2023-08-17_16-14-43/hagrid-sample-30k-384p-yolox_tiny-onnx-tf/assets\n",
      "INFO:absl:Writing fingerprint to pytorch-yolox-object-detector/2023-08-17_16-14-43/hagrid-sample-30k-384p-yolox_tiny-onnx-tf/fingerprint.pb\n"
     ]
    }
   ],
   "source": [
    "# Set path for TensorFlow saved model directory\n",
    "tf_model_dir = f\"{checkpoint_dir}/{checkpoint_path.stem}-onnx-tf\"\n",
    "\n",
    "# Export backend representation to a Tensorflow proto file.\n",
    "tf_rep.export_graph(tf_model_dir)"
   ]
  },
  {
   "cell_type": "markdown",
   "id": "10914437-e6d0-4545-8a61-c781eb59c538",
   "metadata": {},
   "source": [
    "## Exporting the Model to TensorFlow"
   ]
  },
  {
   "cell_type": "code",
   "execution_count": 7,
   "id": "5067f521-cc5c-422e-aaad-e13af59bad53",
   "metadata": {},
   "outputs": [
    {
     "name": "stderr",
     "output_type": "stream",
     "text": [
      "2023-09-27 14:35:04.382919: I tensorflow/compiler/xla/stream_executor/cuda/cuda_gpu_executor.cc:995] successful NUMA node read from SysFS had negative value (-1), but there must be at least one NUMA node, so returning NUMA node zero. See more at https://github.com/torvalds/linux/blob/v6.0/Documentation/ABI/testing/sysfs-bus-pci#L344-L355\n",
      "2023-09-27 14:35:04.383005: I tensorflow/core/grappler/devices.cc:66] Number of eligible GPUs (core count >= 8, compute capability >= 0.0): 1\n",
      "2023-09-27 14:35:04.383085: I tensorflow/core/grappler/clusters/single_machine.cc:357] Starting new session\n",
      "2023-09-27 14:35:04.383350: I tensorflow/compiler/xla/stream_executor/cuda/cuda_gpu_executor.cc:995] successful NUMA node read from SysFS had negative value (-1), but there must be at least one NUMA node, so returning NUMA node zero. See more at https://github.com/torvalds/linux/blob/v6.0/Documentation/ABI/testing/sysfs-bus-pci#L344-L355\n",
      "2023-09-27 14:35:04.383404: W tensorflow/core/common_runtime/gpu/gpu_device.cc:1960] Cannot dlopen some GPU libraries. Please make sure the missing libraries mentioned above are installed properly if you would like to use GPU. Follow the guide at https://www.tensorflow.org/install/gpu for how to download and setup the required libraries for your platform.\n",
      "Skipping registering GPU devices...\n"
     ]
    },
    {
     "name": "stdout",
     "output_type": "stream",
     "text": [
      "weight PartitionedCall/Where with shape (0, 1) and dtype int64 was auto converted to the type int32\n",
      "weight PartitionedCall/Cast_12 with shape (1,) and dtype int64 was auto converted to the type int32\n",
      "weight PartitionedCall/Squeeze with shape (0,) and dtype int64 was auto converted to the type int32\n",
      "weight PartitionedCall/zeros_7 with shape () and dtype int64 was auto converted to the type int32\n",
      "weight PartitionedCall/Where_1 with shape (0, 1) and dtype int64 was auto converted to the type int32\n",
      "weight PartitionedCall/Cast_13 with shape (1,) and dtype int64 was auto converted to the type int32\n",
      "weight PartitionedCall/Squeeze_1 with shape (0,) and dtype int64 was auto converted to the type int32\n",
      "weight PartitionedCall/zeros_8 with shape () and dtype int64 was auto converted to the type int32\n",
      "weight unknown_174 with shape (3,) and dtype int64 was auto converted to the type int32\n",
      "weight PartitionedCall/Where_2 with shape (0, 1) and dtype int64 was auto converted to the type int32\n",
      "weight PartitionedCall/Cast_14 with shape (1,) and dtype int64 was auto converted to the type int32\n",
      "weight PartitionedCall/PadV2/paddings with shape (4, 2) and dtype int64 was auto converted to the type int32\n",
      "weight PartitionedCall/PadV2_1/paddings with shape (4, 2) and dtype int64 was auto converted to the type int32\n",
      "weight PartitionedCall/zeros_like_1 with shape (2,) and dtype int64 was auto converted to the type int32\n",
      "weight unknown_1 with shape (2,) and dtype int64 was auto converted to the type int32\n",
      "weight PartitionedCall/zeros with shape () and dtype int64 was auto converted to the type int32\n",
      "weight PartitionedCall/Const_1 with shape () and dtype int64 was auto converted to the type int32\n",
      "weight PartitionedCall/zeros_like_2 with shape (2,) and dtype int64 was auto converted to the type int32\n",
      "weight PartitionedCall/Const with shape () and dtype int64 was auto converted to the type int32\n",
      "weight PartitionedCall/ExpandDims with shape (2, 1) and dtype int64 was auto converted to the type int32\n",
      "weight PartitionedCall/Cast_1 with shape (1,) and dtype int64 was auto converted to the type int32\n",
      "weight PartitionedCall/Const_2 with shape () and dtype int64 was auto converted to the type int32\n",
      "weight PartitionedCall/zeros_like_4 with shape (2,) and dtype int64 was auto converted to the type int32\n",
      "weight unknown_4 with shape (2,) and dtype int64 was auto converted to the type int32\n",
      "weight PartitionedCall/zeros_1 with shape () and dtype int64 was auto converted to the type int32\n",
      "weight PartitionedCall/Const_4 with shape () and dtype int64 was auto converted to the type int32\n",
      "weight PartitionedCall/zeros_like_5 with shape (2,) and dtype int64 was auto converted to the type int32\n",
      "weight PartitionedCall/Const_3 with shape () and dtype int64 was auto converted to the type int32\n",
      "weight PartitionedCall/ExpandDims_1 with shape (2, 1) and dtype int64 was auto converted to the type int32\n",
      "weight PartitionedCall/Cast_3 with shape (1,) and dtype int64 was auto converted to the type int32\n",
      "weight PartitionedCall/Const_5 with shape () and dtype int64 was auto converted to the type int32\n",
      "weight PartitionedCall/zeros_like_7 with shape (2,) and dtype int64 was auto converted to the type int32\n",
      "weight unknown_5 with shape (2,) and dtype int64 was auto converted to the type int32\n",
      "weight PartitionedCall/zeros_2 with shape () and dtype int64 was auto converted to the type int32\n",
      "weight PartitionedCall/Const_7 with shape () and dtype int64 was auto converted to the type int32\n",
      "weight PartitionedCall/zeros_like_8 with shape (2,) and dtype int64 was auto converted to the type int32\n",
      "weight PartitionedCall/Const_6 with shape () and dtype int64 was auto converted to the type int32\n",
      "weight PartitionedCall/ExpandDims_2 with shape (2, 1) and dtype int64 was auto converted to the type int32\n",
      "weight PartitionedCall/Cast_5 with shape (1,) and dtype int64 was auto converted to the type int32\n",
      "weight PartitionedCall/Const_8 with shape () and dtype int64 was auto converted to the type int32\n",
      "weight PartitionedCall/zeros_like_10 with shape (2,) and dtype int64 was auto converted to the type int32\n",
      "weight unknown_6 with shape (2,) and dtype int64 was auto converted to the type int32\n",
      "weight PartitionedCall/zeros_3 with shape () and dtype int64 was auto converted to the type int32\n",
      "weight PartitionedCall/Const_10 with shape () and dtype int64 was auto converted to the type int32\n",
      "weight PartitionedCall/zeros_like_11 with shape (2,) and dtype int64 was auto converted to the type int32\n",
      "weight unknown_2 with shape (2,) and dtype int64 was auto converted to the type int32\n",
      "weight PartitionedCall/Const_9 with shape () and dtype int64 was auto converted to the type int32\n",
      "weight PartitionedCall/ExpandDims_3 with shape (2, 1) and dtype int64 was auto converted to the type int32\n",
      "weight PartitionedCall/Cast_7 with shape (1,) and dtype int64 was auto converted to the type int32\n",
      "weight unknown_3 with shape (2,) and dtype int64 was auto converted to the type int32\n",
      "weight PartitionedCall/Const_11 with shape () and dtype int64 was auto converted to the type int32\n",
      "weight PartitionedCall/PadV2_2/paddings with shape (4, 2) and dtype int64 was auto converted to the type int32\n",
      "weight PartitionedCall/Squeeze_2 with shape (0,) and dtype int64 was auto converted to the type int32\n",
      "weight PartitionedCall/zeros_9 with shape () and dtype int64 was auto converted to the type int32\n"
     ]
    }
   ],
   "source": [
    "# Set the path for TensorFlow.js model files\n",
    "tfjs_model_dir = f\"{checkpoint_dir}/{checkpoint_path.stem}-onnx-tf-tfjs-uint8\"\n",
    "\n",
    "converters.convert_tf_saved_model(saved_model_dir=tf_model_dir, \n",
    "                                               output_dir=tfjs_model_dir, \n",
    "                                               quantization_dtype_map={quantization.QUANTIZATION_DTYPE_UINT8:True}\n",
    "                                              )"
   ]
  },
  {
   "cell_type": "code",
   "execution_count": null,
   "id": "6e350a00-99c7-404f-8db6-effb5849abe5",
   "metadata": {},
   "outputs": [],
   "source": []
  }
 ],
 "metadata": {
  "kernelspec": {
   "display_name": "Python 3 (ipykernel)",
   "language": "python",
   "name": "python3"
  },
  "language_info": {
   "codemirror_mode": {
    "name": "ipython",
    "version": 3
   },
   "file_extension": ".py",
   "mimetype": "text/x-python",
   "name": "python",
   "nbconvert_exporter": "python",
   "pygments_lexer": "ipython3",
   "version": "3.11.4"
  }
 },
 "nbformat": 4,
 "nbformat_minor": 5
}
